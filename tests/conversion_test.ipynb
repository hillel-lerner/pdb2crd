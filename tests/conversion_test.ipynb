{
 "cells": [
  {
   "cell_type": "code",
   "execution_count": 10,
   "id": "458ca25e",
   "metadata": {},
   "outputs": [
    {
     "name": "stdout",
     "output_type": "stream",
     "text": [
      "/home/hillel/Code/git/pdb2crd/tests/sample_data\n"
     ]
    }
   ],
   "source": [
    "\"\"\"\n",
    "PDB to CRD Converter Unit Tests\n",
    "\n",
    "This notebook tests the functionality of the PDB to CRD converter package.\n",
    "\"\"\"\n",
    "\n",
    "import os\n",
    "import sys\n",
    "\n",
    "sys.path.append('..')\n",
    "pwd = os.path.abspath('')\n",
    "\n",
    "wdir = os.path.join(pwd, 'sample_data')\n",
    "print(wdir) \n",
    "\n",
    "from pdb2crd.converter import convert_pdb_to_crd, save_crd"
   ]
  },
  {
   "cell_type": "code",
   "execution_count": 11,
   "id": "724c7cde",
   "metadata": {},
   "outputs": [
    {
     "data": {
      "text/plain": [
       "'/home/hillel/Code/git/pdb2crd/tests/sample_data/output.crd'"
      ]
     },
     "execution_count": 11,
     "metadata": {},
     "output_type": "execute_result"
    }
   ],
   "source": [
    "output_path = wdir\n",
    "\n",
    "save_crd(os.path.join(wdir, 'sample.pdb'), os.path.join(wdir, 'output.crd'))"
   ]
  }
 ],
 "metadata": {
  "kernelspec": {
   "display_name": "base",
   "language": "python",
   "name": "python3"
  },
  "language_info": {
   "codemirror_mode": {
    "name": "ipython",
    "version": 3
   },
   "file_extension": ".py",
   "mimetype": "text/x-python",
   "name": "python",
   "nbconvert_exporter": "python",
   "pygments_lexer": "ipython3",
   "version": "3.12.2"
  }
 },
 "nbformat": 4,
 "nbformat_minor": 5
}
